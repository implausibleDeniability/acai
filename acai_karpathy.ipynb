{
 "cells": [
  {
   "cell_type": "code",
   "execution_count": 1,
   "id": "391c5b7c-45b4-4b79-859f-dc0eb185d11b",
   "metadata": {},
   "outputs": [],
   "source": [
    "import torch\n",
    "from torch import nn\n",
    "import numpy as np\n",
    "from matplotlib import pyplot as plt\n",
    "import tqdm\n",
    "import wandb\n",
    "\n",
    "from acai.autoencoders.base import AutoencoderBase\n",
    "from acai.backbones import build_simple_encoder, build_simple_decoder\n",
    "from acai.convolution_visualizer import ConvolutionVisualizer\n",
    "from acai.data import make_line_image, IMAGE_SIZE\n",
    "from acai.image_utils import collage_images, torch2numpy_image, draw_images\n",
    "from acai.wandb_logger import WandbLogger\n",
    "from acai.utils import init_weights_kaiming_normal, fix_seeds"
   ]
  },
  {
   "cell_type": "code",
   "execution_count": 2,
   "id": "1cb186e6-81f5-4f26-b98a-c035edc27896",
   "metadata": {},
   "outputs": [],
   "source": [
    "BATCHSIZE = 64"
   ]
  },
  {
   "cell_type": "markdown",
   "id": "a05ab845",
   "metadata": {},
   "source": [
    "# Quick look into data"
   ]
  },
  {
   "cell_type": "code",
   "execution_count": 3,
   "id": "7018be30-164e-42fe-b945-abdf4a5f7d8b",
   "metadata": {},
   "outputs": [
    {
     "name": "stderr",
     "output_type": "stream",
     "text": [
      "100%|██████████| 10/10 [00:00<00:00, 36599.51it/s]\n"
     ]
    },
    {
     "data": {
      "image/png": "[encoded data removed]",
      "text/plain": [
       "<Figure size 640x480 with 6 Axes>"
      ]
     },
     "metadata": {},
     "output_type": "display_data"
    }
   ],
   "source": [
    "fix_seeds(0)\n",
    "angles = np.random.uniform(-3, 3, size=10)\n",
    "images = np.stack([make_line_image(angle) for angle in tqdm.tqdm(angles)])\n",
    "images = images / 255\n",
    "images = images.astype(np.float32)\n",
    "draw_images(images[:6])"
   ]
  },
  {
   "cell_type": "markdown",
   "id": "8ddba699-b143-4568-9ec7-8462a7f6c2d2",
   "metadata": {
    "tags": []
   },
   "source": [
    "# Common training utils"
   ]
  },
  {
   "cell_type": "code",
   "execution_count": 4,
   "id": "ae88c517-6583-4c12-bb5c-53429e7222b8",
   "metadata": {},
   "outputs": [],
   "source": [
    "PI = 3.1416\n",
    "\n",
    "def generate_batch(batchsize: int) -> torch.Tensor:\n",
    "    angles = np.random.uniform(-PI, PI, size=batchsize)\n",
    "    images = [make_line_image(angle) for angle in angles]\n",
    "    batch = np.stack(images)\n",
    "    batch = batch / 255\n",
    "    batch = torch.FloatTensor(batch)\n",
    "    batch = batch.view(batchsize, 1, IMAGE_SIZE, IMAGE_SIZE)\n",
    "    return batch"
   ]
  },
  {
   "cell_type": "code",
   "execution_count": 5,
   "id": "1d933848-0f80-4c92-a0f9-ee55f48a9d64",
   "metadata": {},
   "outputs": [],
   "source": [
    "from typing import Optional\n",
    "\n",
    "class Trainer:\n",
    "    N_EVAL_LOGGING_IMAGES = 3\n",
    "    EVAL_EVERY = 500\n",
    "    \n",
    "    def __init__(\n",
    "        self,\n",
    "        autoencoder: AutoencoderBase,\n",
    "        logger: Optional[WandbLogger] = None,\n",
    "        device: torch.device = torch.device(\"cpu\"),\n",
    "        callbacks: list[callable] = [],\n",
    "    ):\n",
    "        self.autoencoder = autoencoder\n",
    "        self.logger = logger or WandbLogger('debug', 'acai_karpathy')\n",
    "        self.device = device\n",
    "        self.convolution_visualizer = ConvolutionVisualizer()\n",
    "        self.callbacks = callbacks\n",
    "        \n",
    "    def train(self, n_steps):\n",
    "        eval_batch = generate_batch(batchsize=64).to(self.device)\n",
    "        self.autoencoder = self.autoencoder.to(self.device)\n",
    "        for step in range(n_steps):\n",
    "            self._run_callbacks()\n",
    "            self._train_step()\n",
    "            if step % self.EVAL_EVERY == 0:\n",
    "                self._eval_step(eval_batch)\n",
    "            self.logger.commit()\n",
    "    \n",
    "    def _run_callbacks(self):\n",
    "        for callback in self.callbacks:\n",
    "            callback(self)\n",
    "\n",
    "    def _train_step(self) -> None:\n",
    "        raise NotImplementedError()\n",
    "    \n",
    "    def _eval_step(self, batch):\n",
    "        raise NotImplementedError()"
   ]
  },
  {
   "cell_type": "markdown",
   "id": "a4362e47-9ef7-44b7-886c-0e654a4fd21b",
   "metadata": {},
   "source": [
    "## Train AE"
   ]
  },
  {
   "cell_type": "code",
   "execution_count": 6,
   "id": "3ffaba6e",
   "metadata": {},
   "outputs": [],
   "source": [
    "class AutoencoderTrainer(Trainer):\n",
    "    def __init__(\n",
    "        self,\n",
    "        autoencoder: AutoencoderBase,\n",
    "        logger: Optional[WandbLogger] = None,\n",
    "        device: torch.device = torch.device(\"cpu\"),\n",
    "    ):\n",
    "        super().__init__(autoencoder, logger, device)\n",
    "        self.optimizer = torch.optim.Adam(autoencoder.parameters(), lr=3e-4)\n",
    "        self.compute_loss = torch.nn.MSELoss()\n",
    "\n",
    "    def _train_step(self):\n",
    "        self.autoencoder.train()\n",
    "        batch = generate_batch(BATCHSIZE).to(self.device)\n",
    "        first_image = torch2numpy_image(batch[0])\n",
    "        out = self.autoencoder(batch)\n",
    "        loss = out['loss']\n",
    "        reconstructed_first_image = torch2numpy_image(out['reconstructed_images'][0])\n",
    "        self.optimizer.zero_grad()\n",
    "        loss.backward()\n",
    "        self.optimizer.step()\n",
    "\n",
    "        self.logger.log_images(\n",
    "            \"images/ae/train/first_image_in_batch\", \n",
    "            collage_images([first_image, reconstructed_first_image])\n",
    "        )\n",
    "        self.logger.log({\"ae/train/loss\": loss.detach().item()})\n",
    "\n",
    "    def _eval_step(self, batch):\n",
    "        self.autoencoder.eval()\n",
    "        first_images = torch2numpy_image(batch[:self.N_EVAL_LOGGING_IMAGES])\n",
    "        out = self.autoencoder(batch)\n",
    "        loss = out['loss']\n",
    "\n",
    "        self.logger.log({\"ae/test/loss\": loss.detach().item()})\n",
    "        self.logger.log_images(\n",
    "            \"images/ae/eval/reconstruction\", \n",
    "            collage_images([first_images, torch2numpy_image(out['reconstructed_images'][:self.N_EVAL_LOGGING_IMAGES])])\n",
    "        )\n",
    "    "
   ]
  },
  {
   "cell_type": "code",
   "execution_count": 7,
   "id": "dad25d2b-38be-412c-bd1b-83ab65fac187",
   "metadata": {},
   "outputs": [],
   "source": [
    "# from acai.autoencoders import AutoencoderDefault\n",
    "# fix_seeds(42)\n",
    "\n",
    "# logger = WandbLogger(run='debug', project='acai_karpathy', log_images_every=100)\n",
    "# encoder = build_simple_encoder(width_coef=1)\n",
    "# decoder = build_simple_decoder(width_coef=1)\n",
    "# autoencoder = AutoencoderDefault(encoder, decoder)\n",
    "# autoencoder.apply(init_weights_kaiming_normal)\n",
    "\n",
    "# trainer = AutoencoderTrainer(autoencoder, logger=logger, device=torch.device(\"cuda\"))\n",
    "# trainer.train(n_steps=1000)"
   ]
  },
  {
   "cell_type": "markdown",
   "id": "855394b5-a7ff-4ba6-a02a-5276f4e4813b",
   "metadata": {
    "tags": []
   },
   "source": [
    "# Train ACAI"
   ]
  },
  {
   "cell_type": "code",
   "execution_count": 8,
   "id": "f0822dc7-8dd6-4171-bbdd-610f6e539d20",
   "metadata": {},
   "outputs": [],
   "source": [
    "from acai.autoencoders.acai import ACAI\n",
    "from acai.monitoring.interpolation import InterpolationCallback\n",
    "\n",
    "\n",
    "class ACAITrainer(Trainer):\n",
    "    autoencoder: ACAI\n",
    "    \n",
    "    def __init__(\n",
    "        self,\n",
    "        autoencoder: ACAI,\n",
    "        logger: Optional[WandbLogger] = None,\n",
    "        device: torch.device = torch.device(\"cpu\"),\n",
    "        callbacks = [],\n",
    "    ):\n",
    "        super().__init__(autoencoder, logger, device, callbacks)\n",
    "        self.optimizer_ae = torch.optim.Adam([*autoencoder.encoder.parameters(), *autoencoder.decoder.parameters()], lr=3e-4)\n",
    "        self.optimizer_critic = torch.optim.Adam(autoencoder.critic.parameters(), lr=3e-4)\n",
    "        self._step_counter = 0\n",
    "    \n",
    "    def _train_step(self):\n",
    "        self._train_ae()\n",
    "        self._train_critic()\n",
    "        self._step_counter += 1\n",
    "    \n",
    "    def _train_ae(self):\n",
    "        # self.autoencoder.train()\n",
    "        # self.autoencoder.critic.eval()\n",
    "        batch1 = generate_batch(BATCHSIZE).to(self.device)\n",
    "        batch2 = generate_batch(BATCHSIZE).to(self.device)\n",
    "        first_image = torch2numpy_image(batch1[0])\n",
    "        out = self.autoencoder(batch1, batch2)\n",
    "        loss = out['loss']\n",
    "        self.optimizer_ae.zero_grad()\n",
    "        loss.backward()\n",
    "        self.optimizer_ae.step()\n",
    "\n",
    "        self.logger.log({\"ae/train/loss\": loss.detach().item()})\n",
    "        self.logger.log({\"ae/train/reconstruction_loss\": out['reconstruction_loss'].detach().item()})\n",
    "        self.logger.log({\"ae/train/interpolation_loss\": out['interpolation_loss'].detach().item()})\n",
    "        self.logger.log_images(\n",
    "            \"images/ae/train/first_image_in_batch\", \n",
    "            collage_images([first_image, torch2numpy_image(out['reconstructed_images'][0])])\n",
    "        )\n",
    "        self.logger.log_images(\n",
    "            \"images/ae/train/decoded_interpolation\",\n",
    "            torch2numpy_image(out[\"reconstructed_interpolated_images\"][0]),\n",
    "        )\n",
    "        \n",
    "    def _train_critic(self):\n",
    "        # self.autoencoder.eval()\n",
    "        # self.autoencoder.critic.train()\n",
    "        batch1 = generate_batch(BATCHSIZE).to(self.device)\n",
    "        batch2 = generate_batch(BATCHSIZE).to(self.device)\n",
    "        first_image = torch2numpy_image(batch1[0])\n",
    "        out = self.autoencoder.forward_critic(batch1, batch2)\n",
    "        loss = out['loss']\n",
    "        self.optimizer_critic.zero_grad()\n",
    "        loss.backward()\n",
    "        self.optimizer_critic.step()\n",
    "\n",
    "        self.logger.log({\"critic/train/loss\": loss.detach().item()})\n",
    "        self.logger.log({\"critic/train/alpha_recovery_loss\": out['alpha_recovery_loss'].detach().item()})\n",
    "        self.logger.log({\"critic/train/regularization_loss\": out['regularization_loss'].detach().item()})\n",
    "        self.logger.log_images(\n",
    "            \"images/critic/train/first_image_in_batch\", \n",
    "            collage_images([first_image, torch2numpy_image(out['reconstructed_images'][0])])\n",
    "        )\n",
    "        self.logger.log_images(\n",
    "            \"images/critic/train/decoded_interpolation\",\n",
    "            torch2numpy_image(out[\"reconstructed_interpolated_images\"][0]),\n",
    "        )\n",
    "        self.logger.log_images(\n",
    "            \"images/critic/train/blended_image\",\n",
    "            torch2numpy_image(out[\"blended_non_interpolated_images\"][0]),\n",
    "        )\n",
    "\n",
    "    def _eval_step(self, batch):\n",
    "        self.autoencoder.eval()\n",
    "        batch2 = generate_batch(BATCHSIZE).to(self.device)\n",
    "        first_images = torch2numpy_image(batch[:self.N_EVAL_LOGGING_IMAGES])\n",
    "        out = self.autoencoder(batch, batch2)\n",
    "        loss = out['loss']\n",
    "        reconstructed_first_images = torch2numpy_image(out['reconstructed_images'][:self.N_EVAL_LOGGING_IMAGES])\n",
    "        self.logger.log_images(\n",
    "            \"images/ae/eval/reconstruction\", \n",
    "            collage_images([first_images, reconstructed_first_images])\n",
    "        )\n",
    "        self.logger.log({\"ae/test/loss\": loss.detach().item()})"
   ]
  },
  {
   "cell_type": "code",
   "execution_count": 9,
   "id": "12db6614",
   "metadata": {},
   "outputs": [],
   "source": [
    "images_for_callback = generate_batch(2).to(torch.device('cuda'))\n",
    "interpolation_callback = InterpolationCallback(images_for_callback[0], images_for_callback[1])"
   ]
  },
  {
   "cell_type": "code",
   "execution_count": null,
   "id": "f630b888-9a1f-44f4-8ed5-83fc1ef030e7",
   "metadata": {},
   "outputs": [
    {
     "name": "stderr",
     "output_type": "stream",
     "text": [
      "Failed to detect the name of this notebook, you can set it manually with the WANDB_NOTEBOOK_NAME environment variable to enable code saving.\n",
      "\u001b[34m\u001b[1mwandb\u001b[0m: Currently logged in as: \u001b[33mimplausible_deniability\u001b[0m. Use \u001b[1m`wandb login --relogin`\u001b[0m to force relogin\n"
     ]
    },
    {
     "data": {
      "text/html": [
       "wandb version 0.15.12 is available!  To upgrade, please run:\n",
       " $ pip install wandb --upgrade"
      ],
      "text/plain": [
       "<IPython.core.display.HTML object>"
      ]
     },
     "metadata": {},
     "output_type": "display_data"
    },
    {
     "data": {
      "text/html": [
       "Tracking run with wandb version 0.15.7"
      ],
      "text/plain": [
       "<IPython.core.display.HTML object>"
      ]
     },
     "metadata": {},
     "output_type": "display_data"
    },
    {
     "data": {
      "text/html": [
       "Run data is saved locally in <code>/home/maxim/acai/wandb/run-20231025_130946-40e2di41</code>"
      ],
      "text/plain": [
       "<IPython.core.display.HTML object>"
      ]
     },
     "metadata": {},
     "output_type": "display_data"
    },
    {
     "data": {
      "text/html": [
       "Syncing run <strong><a href='https://wandb.ai/implausible_deniability/acai_karpathy/runs/40e2di41' target=\"_blank\">acaild4_after_refactoring__train_everything</a></strong> to <a href='https://wandb.ai/implausible_deniability/acai_karpathy' target=\"_blank\">Weights & Biases</a> (<a href='https://wandb.me/run' target=\"_blank\">docs</a>)<br/>"
      ],
      "text/plain": [
       "<IPython.core.display.HTML object>"
      ]
     },
     "metadata": {},
     "output_type": "display_data"
    },
    {
     "data": {
      "text/html": [
       " View project at <a href='https://wandb.ai/implausible_deniability/acai_karpathy' target=\"_blank\">https://wandb.ai/implausible_deniability/acai_karpathy</a>"
      ],
      "text/plain": [
       "<IPython.core.display.HTML object>"
      ]
     },
     "metadata": {},
     "output_type": "display_data"
    },
    {
     "data": {
      "text/html": [
       " View run at <a href='https://wandb.ai/implausible_deniability/acai_karpathy/runs/40e2di41' target=\"_blank\">https://wandb.ai/implausible_deniability/acai_karpathy/runs/40e2di41</a>"
      ],
      "text/plain": [
       "<IPython.core.display.HTML object>"
      ]
     },
     "metadata": {},
     "output_type": "display_data"
    }
   ],
   "source": [
    "fix_seeds(42)\n",
    "\n",
    "logger = WandbLogger(run='acaild4_after_refactoring__train_everything', project='acai_karpathy', log_images_every=100)\n",
    "encoder = build_simple_encoder(width_coef=1)\n",
    "decoder = build_simple_decoder(width_coef=1)\n",
    "critic = build_simple_encoder(width_coef=1)\n",
    "autoencoder = ACAI(encoder, decoder, critic)\n",
    "autoencoder.apply(init_weights_kaiming_normal)\n",
    "\n",
    "trainer = ACAITrainer(autoencoder, logger=logger, device=torch.device(\"cuda\"), callbacks=[interpolation_callback])\n",
    "trainer.train(n_steps=260000)"
   ]
  }
 ],
 "metadata": {
  "kernelspec": {
   "display_name": "cafa-protein",
   "language": "python",
   "name": "cafa-protein"
  },
  "language_info": {
   "codemirror_mode": {
    "name": "ipython",
    "version": 3
   },
   "file_extension": ".py",
   "mimetype": "text/x-python",
   "name": "python",
   "nbconvert_exporter": "python",
   "pygments_lexer": "ipython3",
   "version": "3.10.12"
  }
 },
 "nbformat": 4,
 "nbformat_minor": 5
}
