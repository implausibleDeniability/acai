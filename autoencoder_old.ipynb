{
 "cells": [
  {
   "cell_type": "markdown",
   "id": "f47f5793-7eb4-4d07-b1d5-432730ac2d16",
   "metadata": {},
   "source": [
    "# todo когда заработает\n",
    "Сделай albation study.\n",
    "- Насколько помогает батчнорм? Что будет если его убрать? Что будет если ставить его не после каждого слоя? Что будет если поменять местами его и ReLU?\n",
    "- Что будет если меньше данны?\n",
    "- Что будет если изменить батч сайз?\n",
    "- Разница между ReLU и LeakyReLU?\n",
    "- AvgPool vs MaxPool"
   ]
  },
  {
   "cell_type": "markdown",
   "id": "cba26cbe-dc00-47c8-9eea-fb4e38877baf",
   "metadata": {},
   "source": [
    "## Как дебажить\n",
    "\n",
    "- [x] Прочитай пост Karpathy про то, как тренировать нейронки. Помнишь, ты когда то думал, что ты не практикуешь теоретические знания, поскольку тебе нужна работа для этого? (не тупо learning vs doing трейдофф, а ты именно думал что тебе для раскачивания твоих скиллов как крутого инженера нужно читать теорию, осознанно тестировать на практике, и рефлексировать потом) Вот Karpathy может классные вещи предложить. Визуализировать, логировать распределение градиентов.\n",
    "- прописать в комментариях размерности для каждого массива на котором оперирую\n",
    "- Посмотреть, что примеры не смешиваются, прогнав градиентный спуск только на одном тренировочном примере."
   ]
  },
  {
   "cell_type": "code",
   "execution_count": 9,
   "id": "b54d154d-3f0b-4f1a-a80e-33e4d4bbf0a3",
   "metadata": {},
   "outputs": [],
   "source": [
    "import torch\n",
    "from torch import nn\n",
    "import numpy as np\n",
    "from matplotlib import pyplot as plt\n",
    "import tqdm\n",
    "import wandb\n",
    "\n",
    "from data import make_line_image\n",
    "\n",
    "N_DATAPOINTS = 2000000\n",
    "HIDDEN_DIM = 32\n",
    "N_ITERATIONS = 3000\n",
    "BATCH_SIZE = 64\n",
    "DIM_MULTIPLIER = 4\n",
    "BN_MOMENTUM = 0.1"
   ]
  },
  {
   "cell_type": "code",
   "execution_count": 10,
   "id": "82cd7112-f132-4119-b159-031fbabb833f",
   "metadata": {},
   "outputs": [
    {
     "name": "stderr",
     "output_type": "stream",
     "text": [
      "100%|██████████| 2000000/2000000 [00:14<00:00, 136607.97it/s]\n"
     ]
    }
   ],
   "source": [
    "np.random.seed(0)\n",
    "angles = np.random.uniform(-3, 3, size=N_DATAPOINTS)\n",
    "images = np.stack([make_line_image(angle) for angle in tqdm.tqdm(angles)])\n",
    "images = images / 255\n",
    "images = images.reshape(N_DATAPOINTS, 1, 32, 32)\n",
    "images = images.astype(np.float32)"
   ]
  },
  {
   "cell_type": "code",
   "execution_count": 11,
   "id": "c93c94af-50d9-49f5-879c-9cac2614c0af",
   "metadata": {},
   "outputs": [],
   "source": [
    "def get_encoder_block(input_dim, output_dim):\n",
    "    return nn.Sequential(\n",
    "        nn.Conv2d(input_dim, output_dim, 3, padding='same'),\n",
    "        nn.LeakyReLU(0.2),\n",
    "        nn.BatchNorm2d(output_dim, momentum=BN_MOMENTUM),\n",
    "        nn.Conv2d(output_dim, output_dim, 3, padding='same'),\n",
    "        nn.LeakyReLU(0.2),\n",
    "        nn.BatchNorm2d(output_dim, momentum=BN_MOMENTUM),\n",
    "        nn.AvgPool2d(2),\n",
    "    )\n",
    "\n",
    "def get_encoder():\n",
    "    encoder = nn.Sequential(\n",
    "        get_encoder_block(1, 2*DIM_MULTIPLIER),\n",
    "        get_encoder_block(2*DIM_MULTIPLIER, 4*DIM_MULTIPLIER),\n",
    "        get_encoder_block(4*DIM_MULTIPLIER, 8*DIM_MULTIPLIER),\n",
    "        get_encoder_block(8*DIM_MULTIPLIER, 16*DIM_MULTIPLIER),\n",
    "        nn.Conv2d(16*DIM_MULTIPLIER, 16*DIM_MULTIPLIER, 3, padding='same'),\n",
    "        nn.LeakyReLU(0.2),\n",
    "        nn.BatchNorm2d(16*DIM_MULTIPLIER, momentum=BN_MOMENTUM),\n",
    "        nn.Conv2d(16*DIM_MULTIPLIER, 16*DIM_MULTIPLIER, 3, padding='same'),\n",
    "    )\n",
    "    return encoder"
   ]
  },
  {
   "cell_type": "code",
   "execution_count": 12,
   "id": "43979720-5b58-4210-850e-5df6a236afdc",
   "metadata": {},
   "outputs": [],
   "source": [
    "def get_decoder_block(input_dim, output_dim):\n",
    "    return nn.Sequential(\n",
    "        nn.Conv2d(input_dim, output_dim, 3, padding='same'),\n",
    "        nn.LeakyReLU(0.2),\n",
    "        nn.BatchNorm2d(output_dim, momentum=BN_MOMENTUM),\n",
    "        nn.Conv2d(output_dim, output_dim, 3, padding='same'),\n",
    "        nn.LeakyReLU(0.2),\n",
    "        nn.BatchNorm2d(output_dim, momentum=BN_MOMENTUM),\n",
    "        nn.UpsamplingNearest2d(scale_factor=2),\n",
    "    )\n",
    "\n",
    "def get_decoder():\n",
    "    decoder = nn.Sequential(\n",
    "        get_decoder_block(16*DIM_MULTIPLIER, 16*DIM_MULTIPLIER),\n",
    "        get_decoder_block(16*DIM_MULTIPLIER, 8*DIM_MULTIPLIER),\n",
    "        get_decoder_block(8*DIM_MULTIPLIER, 4*DIM_MULTIPLIER),\n",
    "        get_decoder_block(4*DIM_MULTIPLIER, 4*DIM_MULTIPLIER),\n",
    "        nn.Conv2d(4*DIM_MULTIPLIER, 4*DIM_MULTIPLIER, 3, padding='same'),\n",
    "        nn.LeakyReLU(0.2),\n",
    "        nn.BatchNorm2d(4*DIM_MULTIPLIER, momentum=BN_MOMENTUM),\n",
    "        nn.Conv2d(4*DIM_MULTIPLIER, 1, 3, padding='same'),\n",
    "        nn.Sigmoid(),\n",
    "    )\n",
    "    return decoder"
   ]
  },
  {
   "cell_type": "code",
   "execution_count": 13,
   "id": "e9935730-2929-496e-95f1-339137af2cb6",
   "metadata": {},
   "outputs": [],
   "source": [
    "def interpolate_encoder(encoder, decoder, idx=0):\n",
    "    N_STEPS = 9\n",
    "    image1 = images[idx+0]\n",
    "    image2 = images[idx+1]\n",
    "\n",
    "    encoder.eval()\n",
    "    decoder.eval()\n",
    "    image1_latent, image2_latent = (encoder(torch.tensor(image).unsqueeze(0)) for image in [image1, image2])\n",
    "    interpolated_latents = [alpha*image1_latent + (1-alpha)*image2_latent for alpha in np.linspace(0.0, 1.0, N_STEPS)]\n",
    "    interpolated_images = [decoder(latent).squeeze() for latent in interpolated_latents]\n",
    "\n",
    "    fig, ax = plt.subplots(1, N_STEPS, figsize=(15, 5))\n",
    "    for i in range(N_STEPS):\n",
    "        ax[i].imshow(interpolated_images[i].detach().numpy(), cmap='gray')"
   ]
  },
  {
   "cell_type": "code",
   "execution_count": 14,
   "id": "d5626a65-40fb-4b23-9711-cb6fe0bc9de0",
   "metadata": {},
   "outputs": [],
   "source": [
    "def init_weights(module):\n",
    "    if isinstance(module, nn.Conv2d):\n",
    "        std = 1 / ((module.in_channels * (1 + 0.2 ** 2)) ** 0.5)\n",
    "        print(std)\n",
    "        torch.nn.init.normal_(module.weight, mean=0, std=std)\n",
    "        module.bias.data.fill_(0.0)"
   ]
  },
  {
   "cell_type": "markdown",
   "id": "6e38f1ee-b20b-443b-9a97-47af3b4e7a28",
   "metadata": {},
   "source": [
    "# Autoencoder"
   ]
  },
  {
   "cell_type": "code",
   "execution_count": 15,
   "id": "d35199f4-12c0-4bd1-a8f7-64744416abc9",
   "metadata": {},
   "outputs": [],
   "source": [
    "encoder = get_encoder()\n",
    "decoder = get_decoder()"
   ]
  },
  {
   "cell_type": "code",
   "execution_count": 98,
   "id": "aebfb906-81ed-4958-bf5d-afa4bc3aba61",
   "metadata": {},
   "outputs": [
    {
     "data": {
      "text/html": [
       "Finishing last run (ID:o6nnr40n) before initializing another..."
      ],
      "text/plain": [
       "<IPython.core.display.HTML object>"
      ]
     },
     "metadata": {},
     "output_type": "display_data"
    },
    {
     "data": {
      "text/html": [
       "Waiting for W&B process to finish... <strong style=\"color:green\">(success).</strong>"
      ],
      "text/plain": [
       "<IPython.core.display.HTML object>"
      ]
     },
     "metadata": {},
     "output_type": "display_data"
    },
    {
     "data": {
      "text/html": [
       " View run <strong style=\"color:#cdcd00\">autoencoder_bn_01__eval_on_50th</strong> at: <a href='https://wandb.ai/yort/acai/runs/o6nnr40n' target=\"_blank\">https://wandb.ai/yort/acai/runs/o6nnr40n</a><br/>Synced 5 W&B file(s), 0 media file(s), 0 artifact file(s) and 0 other file(s)"
      ],
      "text/plain": [
       "<IPython.core.display.HTML object>"
      ]
     },
     "metadata": {},
     "output_type": "display_data"
    },
    {
     "data": {
      "text/html": [
       "Find logs at: <code>./wandb/run-20230912_160424-o6nnr40n/logs</code>"
      ],
      "text/plain": [
       "<IPython.core.display.HTML object>"
      ]
     },
     "metadata": {},
     "output_type": "display_data"
    },
    {
     "data": {
      "text/html": [
       "Successfully finished last run (ID:o6nnr40n). Initializing new run:<br/>"
      ],
      "text/plain": [
       "<IPython.core.display.HTML object>"
      ]
     },
     "metadata": {},
     "output_type": "display_data"
    },
    {
     "data": {
      "text/html": [
       "wandb version 0.15.10 is available!  To upgrade, please run:\n",
       " $ pip install wandb --upgrade"
      ],
      "text/plain": [
       "<IPython.core.display.HTML object>"
      ]
     },
     "metadata": {},
     "output_type": "display_data"
    },
    {
     "data": {
      "text/html": [
       "Tracking run with wandb version 0.15.7"
      ],
      "text/plain": [
       "<IPython.core.display.HTML object>"
      ]
     },
     "metadata": {},
     "output_type": "display_data"
    },
    {
     "data": {
      "text/html": [
       "Run data is saved locally in <code>/home/maxim/acai/wandb/run-20230912_160431-6u2oglts</code>"
      ],
      "text/plain": [
       "<IPython.core.display.HTML object>"
      ]
     },
     "metadata": {},
     "output_type": "display_data"
    },
    {
     "data": {
      "text/html": [
       "Syncing run <strong><a href='https://wandb.ai/yort/acai/runs/6u2oglts' target=\"_blank\">autoencoder_bn_01__eval_on_50th</a></strong> to <a href='https://wandb.ai/yort/acai' target=\"_blank\">Weights & Biases</a> (<a href='https://wandb.me/run' target=\"_blank\">docs</a>)<br/>"
      ],
      "text/plain": [
       "<IPython.core.display.HTML object>"
      ]
     },
     "metadata": {},
     "output_type": "display_data"
    },
    {
     "data": {
      "text/html": [
       " View project at <a href='https://wandb.ai/yort/acai' target=\"_blank\">https://wandb.ai/yort/acai</a>"
      ],
      "text/plain": [
       "<IPython.core.display.HTML object>"
      ]
     },
     "metadata": {},
     "output_type": "display_data"
    },
    {
     "data": {
      "text/html": [
       " View run at <a href='https://wandb.ai/yort/acai/runs/6u2oglts' target=\"_blank\">https://wandb.ai/yort/acai/runs/6u2oglts</a>"
      ],
      "text/plain": [
       "<IPython.core.display.HTML object>"
      ]
     },
     "metadata": {},
     "output_type": "display_data"
    },
    {
     "data": {
      "text/html": [
       "<button onClick=\"this.nextSibling.style.display='block';this.style.display='none';\">Display W&B run</button><iframe src='https://wandb.ai/yort/acai/runs/6u2oglts?jupyter=true' style='border:none;width:100%;height:420px;display:none;'></iframe>"
      ],
      "text/plain": [
       "<wandb.sdk.wandb_run.Run at 0x7f5af9bd5810>"
      ]
     },
     "execution_count": 98,
     "metadata": {},
     "output_type": "execute_result"
    }
   ],
   "source": [
    "wandb.init(project='acai', name=\"autoencoder_bn_01__eval_on_50th\")"
   ]
  },
  {
   "cell_type": "code",
   "execution_count": 99,
   "id": "0b86f825-c5e9-41ad-85a4-0c3dcbf4613d",
   "metadata": {},
   "outputs": [
    {
     "name": "stderr",
     "output_type": "stream",
     "text": [
      " 43%|████▎     | 12997/30000 [04:07<05:24, 52.46it/s]\n"
     ]
    },
    {
     "ename": "KeyboardInterrupt",
     "evalue": "",
     "output_type": "error",
     "traceback": [
      "\u001b[0;31m---------------------------------------------------------------------------\u001b[0m",
      "\u001b[0;31mKeyboardInterrupt\u001b[0m                         Traceback (most recent call last)",
      "Cell \u001b[0;32mIn[99], line 15\u001b[0m\n\u001b[1;32m     13\u001b[0m loss \u001b[38;5;241m=\u001b[39m torch\u001b[38;5;241m.\u001b[39mnn\u001b[38;5;241m.\u001b[39mfunctional\u001b[38;5;241m.\u001b[39mmse_loss(torch\u001b[38;5;241m.\u001b[39mtensor(batch), reconstructed_images)\n\u001b[1;32m     14\u001b[0m optimizer\u001b[38;5;241m.\u001b[39mzero_grad()\n\u001b[0;32m---> 15\u001b[0m \u001b[43mloss\u001b[49m\u001b[38;5;241;43m.\u001b[39;49m\u001b[43mbackward\u001b[49m\u001b[43m(\u001b[49m\u001b[43m)\u001b[49m\n\u001b[1;32m     16\u001b[0m optimizer\u001b[38;5;241m.\u001b[39mstep()\n\u001b[1;32m     18\u001b[0m \u001b[38;5;28;01mif\u001b[39;00m iteration \u001b[38;5;241m%\u001b[39m \u001b[38;5;241m100\u001b[39m \u001b[38;5;241m==\u001b[39m \u001b[38;5;241m0\u001b[39m:\n",
      "File \u001b[0;32m~/miniconda3/envs/cafa-protein/lib/python3.10/site-packages/torch/_tensor.py:487\u001b[0m, in \u001b[0;36mTensor.backward\u001b[0;34m(self, gradient, retain_graph, create_graph, inputs)\u001b[0m\n\u001b[1;32m    477\u001b[0m \u001b[38;5;28;01mif\u001b[39;00m has_torch_function_unary(\u001b[38;5;28mself\u001b[39m):\n\u001b[1;32m    478\u001b[0m     \u001b[38;5;28;01mreturn\u001b[39;00m handle_torch_function(\n\u001b[1;32m    479\u001b[0m         Tensor\u001b[38;5;241m.\u001b[39mbackward,\n\u001b[1;32m    480\u001b[0m         (\u001b[38;5;28mself\u001b[39m,),\n\u001b[0;32m   (...)\u001b[0m\n\u001b[1;32m    485\u001b[0m         inputs\u001b[38;5;241m=\u001b[39minputs,\n\u001b[1;32m    486\u001b[0m     )\n\u001b[0;32m--> 487\u001b[0m \u001b[43mtorch\u001b[49m\u001b[38;5;241;43m.\u001b[39;49m\u001b[43mautograd\u001b[49m\u001b[38;5;241;43m.\u001b[39;49m\u001b[43mbackward\u001b[49m\u001b[43m(\u001b[49m\n\u001b[1;32m    488\u001b[0m \u001b[43m    \u001b[49m\u001b[38;5;28;43mself\u001b[39;49m\u001b[43m,\u001b[49m\u001b[43m \u001b[49m\u001b[43mgradient\u001b[49m\u001b[43m,\u001b[49m\u001b[43m \u001b[49m\u001b[43mretain_graph\u001b[49m\u001b[43m,\u001b[49m\u001b[43m \u001b[49m\u001b[43mcreate_graph\u001b[49m\u001b[43m,\u001b[49m\u001b[43m \u001b[49m\u001b[43minputs\u001b[49m\u001b[38;5;241;43m=\u001b[39;49m\u001b[43minputs\u001b[49m\n\u001b[1;32m    489\u001b[0m \u001b[43m\u001b[49m\u001b[43m)\u001b[49m\n",
      "File \u001b[0;32m~/miniconda3/envs/cafa-protein/lib/python3.10/site-packages/torch/autograd/__init__.py:200\u001b[0m, in \u001b[0;36mbackward\u001b[0;34m(tensors, grad_tensors, retain_graph, create_graph, grad_variables, inputs)\u001b[0m\n\u001b[1;32m    195\u001b[0m     retain_graph \u001b[38;5;241m=\u001b[39m create_graph\n\u001b[1;32m    197\u001b[0m \u001b[38;5;66;03m# The reason we repeat same the comment below is that\u001b[39;00m\n\u001b[1;32m    198\u001b[0m \u001b[38;5;66;03m# some Python versions print out the first line of a multi-line function\u001b[39;00m\n\u001b[1;32m    199\u001b[0m \u001b[38;5;66;03m# calls in the traceback and some print out the last line\u001b[39;00m\n\u001b[0;32m--> 200\u001b[0m \u001b[43mVariable\u001b[49m\u001b[38;5;241;43m.\u001b[39;49m\u001b[43m_execution_engine\u001b[49m\u001b[38;5;241;43m.\u001b[39;49m\u001b[43mrun_backward\u001b[49m\u001b[43m(\u001b[49m\u001b[43m  \u001b[49m\u001b[38;5;66;43;03m# Calls into the C++ engine to run the backward pass\u001b[39;49;00m\n\u001b[1;32m    201\u001b[0m \u001b[43m    \u001b[49m\u001b[43mtensors\u001b[49m\u001b[43m,\u001b[49m\u001b[43m \u001b[49m\u001b[43mgrad_tensors_\u001b[49m\u001b[43m,\u001b[49m\u001b[43m \u001b[49m\u001b[43mretain_graph\u001b[49m\u001b[43m,\u001b[49m\u001b[43m \u001b[49m\u001b[43mcreate_graph\u001b[49m\u001b[43m,\u001b[49m\u001b[43m \u001b[49m\u001b[43minputs\u001b[49m\u001b[43m,\u001b[49m\n\u001b[1;32m    202\u001b[0m \u001b[43m    \u001b[49m\u001b[43mallow_unreachable\u001b[49m\u001b[38;5;241;43m=\u001b[39;49m\u001b[38;5;28;43;01mTrue\u001b[39;49;00m\u001b[43m,\u001b[49m\u001b[43m \u001b[49m\u001b[43maccumulate_grad\u001b[49m\u001b[38;5;241;43m=\u001b[39;49m\u001b[38;5;28;43;01mTrue\u001b[39;49;00m\u001b[43m)\u001b[49m\n",
      "\u001b[0;31mKeyboardInterrupt\u001b[0m: "
     ]
    }
   ],
   "source": [
    "optimizer = torch.optim.Adam([*encoder.parameters(), *decoder.parameters()], lr=0.0001)\n",
    "encoder.train()\n",
    "decoder.train()\n",
    "for iteration in tqdm.tqdm(range(10*N_ITERATIONS)):\n",
    "    if iteration > 5000:\n",
    "        encoder.eval()\n",
    "        decoder.eval()\n",
    "    batch_indeces = np.random.randint(N_DATAPOINTS, size=BATCH_SIZE)\n",
    "    batch = images[batch_indeces]\n",
    "    \n",
    "    latent_vectors = encoder(torch.tensor(batch))\n",
    "    reconstructed_images = decoder(latent_vectors)\n",
    "    loss = torch.nn.functional.mse_loss(torch.tensor(batch), reconstructed_images)\n",
    "    optimizer.zero_grad()\n",
    "    loss.backward()\n",
    "    optimizer.step()\n",
    "    \n",
    "    if iteration % 100 == 0:\n",
    "        wandb_images = wandb.Image(np.concatenate([\n",
    "            batch[0].transpose(1, 2, 0),\n",
    "            reconstructed_images[0].detach().numpy().transpose(1, 2, 0),\n",
    "        ]))\n",
    "        wandb.log({\"ae\": wandb_images, \"train/loss\": loss.detach().item()})"
   ]
  },
  {
   "cell_type": "code",
   "execution_count": null,
   "id": "7946a5a2-f749-47e6-a85b-f8d1202206f9",
   "metadata": {},
   "outputs": [],
   "source": [
    "interpolate_encoder(encoder, decoder)"
   ]
  },
  {
   "cell_type": "markdown",
   "id": "497f3c9e-a396-4460-aec9-1bcb0358452d",
   "metadata": {},
   "source": [
    "# ACAI"
   ]
  },
  {
   "cell_type": "code",
   "execution_count": 16,
   "id": "b65406e2-690b-4319-9c8a-fa41e3df0dae",
   "metadata": {},
   "outputs": [],
   "source": [
    "device = torch.device('cuda')"
   ]
  },
  {
   "cell_type": "code",
   "execution_count": 17,
   "id": "ed4d1968-0071-4ade-bc61-6314ea210ddb",
   "metadata": {},
   "outputs": [
    {
     "data": {
      "text/html": [
       "Finishing last run (ID:xdfnfzqu) before initializing another..."
      ],
      "text/plain": [
       "<IPython.core.display.HTML object>"
      ]
     },
     "metadata": {},
     "output_type": "display_data"
    },
    {
     "data": {
      "text/html": [
       "Waiting for W&B process to finish... <strong style=\"color:green\">(success).</strong>"
      ],
      "text/plain": [
       "<IPython.core.display.HTML object>"
      ]
     },
     "metadata": {},
     "output_type": "display_data"
    },
    {
     "data": {
      "text/html": [
       " View run <strong style=\"color:#cdcd00\">acai_fix_clean_alpha_computation</strong> at: <a href='https://wandb.ai/yort/acai/runs/xdfnfzqu' target=\"_blank\">https://wandb.ai/yort/acai/runs/xdfnfzqu</a><br/>Synced 6 W&B file(s), 0 media file(s), 0 artifact file(s) and 0 other file(s)"
      ],
      "text/plain": [
       "<IPython.core.display.HTML object>"
      ]
     },
     "metadata": {},
     "output_type": "display_data"
    },
    {
     "data": {
      "text/html": [
       "Find logs at: <code>./wandb/run-20230912_162933-xdfnfzqu/logs</code>"
      ],
      "text/plain": [
       "<IPython.core.display.HTML object>"
      ]
     },
     "metadata": {},
     "output_type": "display_data"
    },
    {
     "data": {
      "text/html": [
       "Successfully finished last run (ID:xdfnfzqu). Initializing new run:<br/>"
      ],
      "text/plain": [
       "<IPython.core.display.HTML object>"
      ]
     },
     "metadata": {},
     "output_type": "display_data"
    },
    {
     "data": {
      "text/html": [
       "wandb version 0.15.10 is available!  To upgrade, please run:\n",
       " $ pip install wandb --upgrade"
      ],
      "text/plain": [
       "<IPython.core.display.HTML object>"
      ]
     },
     "metadata": {},
     "output_type": "display_data"
    },
    {
     "data": {
      "text/html": [
       "Tracking run with wandb version 0.15.7"
      ],
      "text/plain": [
       "<IPython.core.display.HTML object>"
      ]
     },
     "metadata": {},
     "output_type": "display_data"
    },
    {
     "data": {
      "text/html": [
       "Run data is saved locally in <code>/home/maxim/acai/wandb/run-20230912_163000-zx5bhro0</code>"
      ],
      "text/plain": [
       "<IPython.core.display.HTML object>"
      ]
     },
     "metadata": {},
     "output_type": "display_data"
    },
    {
     "data": {
      "text/html": [
       "Syncing run <strong><a href='https://wandb.ai/yort/acai/runs/zx5bhro0' target=\"_blank\">acai_fix_clean_alpha_computation</a></strong> to <a href='https://wandb.ai/yort/acai' target=\"_blank\">Weights & Biases</a> (<a href='https://wandb.me/run' target=\"_blank\">docs</a>)<br/>"
      ],
      "text/plain": [
       "<IPython.core.display.HTML object>"
      ]
     },
     "metadata": {},
     "output_type": "display_data"
    },
    {
     "data": {
      "text/html": [
       " View project at <a href='https://wandb.ai/yort/acai' target=\"_blank\">https://wandb.ai/yort/acai</a>"
      ],
      "text/plain": [
       "<IPython.core.display.HTML object>"
      ]
     },
     "metadata": {},
     "output_type": "display_data"
    },
    {
     "data": {
      "text/html": [
       " View run at <a href='https://wandb.ai/yort/acai/runs/zx5bhro0' target=\"_blank\">https://wandb.ai/yort/acai/runs/zx5bhro0</a>"
      ],
      "text/plain": [
       "<IPython.core.display.HTML object>"
      ]
     },
     "metadata": {},
     "output_type": "display_data"
    },
    {
     "data": {
      "text/html": [
       "<button onClick=\"this.nextSibling.style.display='block';this.style.display='none';\">Display W&B run</button><iframe src='https://wandb.ai/yort/acai/runs/zx5bhro0?jupyter=true' style='border:none;width:100%;height:420px;display:none;'></iframe>"
      ],
      "text/plain": [
       "<wandb.sdk.wandb_run.Run at 0x7f5e447d5420>"
      ]
     },
     "execution_count": 17,
     "metadata": {},
     "output_type": "execute_result"
    }
   ],
   "source": [
    "encoder = get_encoder().to(device)\n",
    "decoder = get_decoder().to(device)\n",
    "critic = get_encoder().to(device)\n",
    "\n",
    "wandb.init(project='acai', name=\"acai_fix_clean_alpha_computation\")"
   ]
  },
  {
   "cell_type": "code",
   "execution_count": null,
   "id": "775e4010-5090-4d5a-8fab-8cda0b834195",
   "metadata": {},
   "outputs": [
    {
     "name": "stderr",
     "output_type": "stream",
     "text": [
      "  0%|          | 34027/7500000 [06:03<22:59:10, 90.22it/s]"
     ]
    }
   ],
   "source": [
    "GAMMA = 0.3\n",
    "LAMBDA = 0.5\n",
    "ae_optimizer = torch.optim.Adam([*encoder.parameters(), *decoder.parameters()], lr=0.0001)\n",
    "critic_optimizer = torch.optim.Adam([*critic.parameters()], lr=0.0001)\n",
    "encoder.to(\"cuda\")\n",
    "decoder.to(\"cuda\")\n",
    "\n",
    "for iteration in tqdm.tqdm(range(2500 * N_ITERATIONS)):\n",
    "    batch_indeces = np.random.randint(N_DATAPOINTS, size=BATCH_SIZE)\n",
    "    batch = images[batch_indeces]\n",
    "    batch = torch.tensor(batch).to(device)\n",
    "    latent_vectors = encoder(batch)\n",
    "    reconstructed_images = decoder(latent_vectors)\n",
    "    \n",
    "    interpolation_coefficients_batch = torch.tensor(np.random.uniform(0.0, 0.5, size=BATCH_SIZE), dtype=torch.float32).reshape(-1, 1, 1, 1).to(device)\n",
    "    interpolated_latent_vectors = (\n",
    "        (1-interpolation_coefficients_batch) * latent_vectors + \n",
    "        interpolation_coefficients_batch * torch.cat([latent_vectors[5:], latent_vectors[:5]])\n",
    "    )\n",
    "    interpolated_reconstructed_images = decoder(interpolated_latent_vectors)\n",
    "    predicted_interpolated_alphas = critic(interpolated_reconstructed_images).mean(dim=3).mean(dim=2).mean(dim=1)\n",
    "    \n",
    "    if iteration % 2 == 0:\n",
    "        # critic train step\n",
    "        predicted_clean_alphas = critic(GAMMA * batch + (1-GAMMA) * reconstructed_images).mean(dim=3).mean(dim=2).mean(dim=1)\n",
    "        critic_loss = (torch.nn.functional.mse_loss(predicted_interpolated_alphas, interpolation_coefficients_batch.squeeze()) +\n",
    "                       (predicted_clean_alphas ** 2).mean(dim=0))\n",
    "        critic_optimizer.zero_grad()\n",
    "        critic_loss.backward()\n",
    "        critic_optimizer.step()\n",
    "        \n",
    "    else:\n",
    "        # ae train step\n",
    "        reconstruction_loss = torch.nn.functional.mse_loss(batch, reconstructed_images)\n",
    "        adversarial_loss = LAMBDA * (predicted_interpolated_alphas ** 2).mean(dim=0)\n",
    "        ae_loss = reconstruction_loss + adversarial_loss\n",
    "        ae_optimizer.zero_grad()\n",
    "        ae_loss.backward()\n",
    "        ae_optimizer.step()\n",
    "    plt.imshow(batch.detach().cpu().numpy()[0].transpose(1, 2, 0), cmap='gray')\n",
    "    \n",
    "    if iteration % 4000 == 10:\n",
    "        wandb_images = wandb.Image(np.concatenate([\n",
    "            batch.detach().cpu().numpy()[0].transpose(1, 2, 0),\n",
    "            reconstructed_images[0].detach().cpu().numpy().transpose(1, 2, 0),\n",
    "        ]))\n",
    "        wandb.log({\n",
    "            \"ae\": wandb_images, \n",
    "            \"train/ae_loss\": ae_loss.detach().item(),\n",
    "            \"train/reconstruction_loss\": reconstruction_loss.detach().item(),\n",
    "            \"train/adversarial_loss\": adversarial_loss.detach().item(),\n",
    "            \"train/critic_loss\": critic_loss.detach().item(),\n",
    "        })\n",
    "        # interpolate_encoder(encoder)\n"
   ]
  },
  {
   "cell_type": "code",
   "execution_count": 21,
   "id": "090b330f-760c-43b3-827b-3f4d804e4a62",
   "metadata": {},
   "outputs": [
    {
     "data": {
      "image/png": "[encoded data removed]",
      "text/plain": [
       "<Figure size 1500x500 with 9 Axes>"
      ]
     },
     "metadata": {},
     "output_type": "display_data"
    }
   ],
   "source": [
    "interpolate_encoder(encoder.to(\"cpu\"), decoder.to(\"cpu\"), 5)"
   ]
  },
  {
   "cell_type": "code",
   "execution_count": null,
   "id": "7d56c2c3-4009-433c-89d8-0a1c38bf8d34",
   "metadata": {},
   "outputs": [],
   "source": [
    "interpolated_image.detach().numpy().round(2)[16:, 16:]"
   ]
  },
  {
   "cell_type": "code",
   "execution_count": 121,
   "id": "bfb68417-6d63-4244-9393-96c36115333e",
   "metadata": {},
   "outputs": [
    {
     "data": {
      "text/plain": [
       "<matplotlib.image.AxesImage at 0x7f47a619aec0>"
      ]
     },
     "execution_count": 121,
     "metadata": {},
     "output_type": "execute_result"
    },
    {
     "data": {
      "image/png": "[encoded data removed]",
      "text/plain": [
       "<Figure size 640x480 with 1 Axes>"
      ]
     },
     "metadata": {},
     "output_type": "display_data"
    }
   ],
   "source": [
    "image = images[5]\n",
    "\n",
    "encoder.eval().cpu()\n",
    "decoder.eval().cpu()\n",
    "image_latent = encoder(torch.tensor(image).unsqueeze(0))\n",
    "interpolated_image = decoder(image_latent).squeeze()\n",
    "\n",
    "plt.imshow(interpolated_image.detach().numpy(), cmap='gray')"
   ]
  },
  {
   "cell_type": "code",
   "execution_count": null,
   "id": "2bf9ceec-49b7-4ab0-8f29-772257856572",
   "metadata": {},
   "outputs": [],
   "source": []
  }
 ],
 "metadata": {
  "kernelspec": {
   "display_name": "cafa-protein",
   "language": "python",
   "name": "cafa-protein"
  },
  "language_info": {
   "codemirror_mode": {
    "name": "ipython",
    "version": 3
   },
   "file_extension": ".py",
   "mimetype": "text/x-python",
   "name": "python",
   "nbconvert_exporter": "python",
   "pygments_lexer": "ipython3",
   "version": "3.10.12"
  }
 },
 "nbformat": 4,
 "nbformat_minor": 5
}
