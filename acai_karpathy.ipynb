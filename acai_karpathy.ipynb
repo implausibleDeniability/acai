{
 "cells": [
  {
   "cell_type": "code",
   "execution_count": 1,
   "id": "391c5b7c-45b4-4b79-859f-dc0eb185d11b",
   "metadata": {},
   "outputs": [],
   "source": [
    "import torch\n",
    "from torch import nn\n",
    "import numpy as np\n",
    "from matplotlib import pyplot as plt\n",
    "import tqdm\n",
    "import wandb\n",
    "\n",
    "from acai.autoencoders import AutoencoderBase\n",
    "from acai.backbones import build_simple_encoder, build_simple_decoder\n",
    "from acai.convolution_visualizer import ConvolutionVisualizer\n",
    "from acai.data import make_line_image\n",
    "from acai.image_utils import collage_images, torch2numpy_image, unravel_images, draw_images\n",
    "from acai.wandb_logger import WandbLogger\n",
    "from acai.utils import init_weights_kaiming_normal, fix_seeds"
   ]
  },
  {
   "cell_type": "code",
   "execution_count": 2,
   "id": "1cb186e6-81f5-4f26-b98a-c035edc27896",
   "metadata": {},
   "outputs": [],
   "source": [
    "IMAGE_SIZE = 32\n",
    "BATCHSIZE = 64"
   ]
  },
  {
   "cell_type": "code",
   "execution_count": 3,
   "id": "7018be30-164e-42fe-b945-abdf4a5f7d8b",
   "metadata": {},
   "outputs": [
    {
     "name": "stderr",
     "output_type": "stream",
     "text": [
      "100%|██████████| 10/10 [00:00<00:00, 35365.13it/s]\n"
     ]
    },
    {
     "data": {
      "image/png": "[encoded data removed]",
      "text/plain": [
       "<Figure size 640x480 with 6 Axes>"
      ]
     },
     "metadata": {},
     "output_type": "display_data"
    }
   ],
   "source": [
    "fix_seeds(0)\n",
    "angles = np.random.uniform(-3, 3, size=10)\n",
    "images = np.stack([make_line_image(angle) for angle in tqdm.tqdm(angles)])\n",
    "images = images / 255\n",
    "images = images.astype(np.float32)\n",
    "draw_images(images[:6])"
   ]
  },
  {
   "cell_type": "markdown",
   "id": "8ddba699-b143-4568-9ec7-8462a7f6c2d2",
   "metadata": {
    "tags": []
   },
   "source": [
    "## Train pipeline"
   ]
  },
  {
   "cell_type": "code",
   "execution_count": 4,
   "id": "ae88c517-6583-4c12-bb5c-53429e7222b8",
   "metadata": {},
   "outputs": [],
   "source": [
    "PI = 3.1416\n",
    "\n",
    "def generate_batch(batchsize: int) -> torch.Tensor:\n",
    "    angles = np.random.uniform(-PI, PI, size=batchsize)\n",
    "    images = [make_line_image(angle) for angle in angles]\n",
    "    batch = np.stack(images)\n",
    "    batch = batch / 255\n",
    "    batch = torch.FloatTensor(batch)\n",
    "    batch = batch.view(batchsize, 1, IMAGE_SIZE, IMAGE_SIZE)\n",
    "    return batch"
   ]
  },
  {
   "cell_type": "code",
   "execution_count": 5,
   "id": "1d933848-0f80-4c92-a0f9-ee55f48a9d64",
   "metadata": {},
   "outputs": [],
   "source": [
    "from typing import Optional\n",
    "\n",
    "class Trainer:\n",
    "    N_EVAL_LOGGING_IMAGES = 3\n",
    "    EVAL_EVERY = 500\n",
    "    \n",
    "    def __init__(\n",
    "        self,\n",
    "        autoencoder: AutoencoderBase,\n",
    "        logger: Optional[WandbLogger] = None,\n",
    "        device: torch.device = torch.device(\"cpu\"),\n",
    "    ):\n",
    "        self.autoencoder = autoencoder\n",
    "        self.logger = logger or WandbLogger('debug', 'acai_karpathy')\n",
    "        self.device = device\n",
    "        self.convolution_visualizer = ConvolutionVisualizer()\n",
    "        \n",
    "    def train(self, n_steps):\n",
    "        eval_batch = generate_batch(batchsize=64).to(self.device)\n",
    "        self.autoencoder = self.autoencoder.to(self.device)\n",
    "        for step in range(n_steps):\n",
    "            self.train_step()\n",
    "            if step % self.EVAL_EVERY == 0:\n",
    "                self.eval_step(eval_batch)\n",
    "                # self.monitor_step()\n",
    "            self.logger.commit()\n",
    "\n",
    "    def _train_step(self) -> None:\n",
    "        raise NotImplementedError()\n",
    "    \n",
    "    def eval_step(self, batch):\n",
    "        self.autoencoder.eval()\n",
    "        batch2 = generate_batch(BATCHSIZE).to(self.device)\n",
    "        first_images = torch2numpy_image(batch[:self.N_EVAL_LOGGING_IMAGES])\n",
    "        out = self.autoencoder(batch, batch2)\n",
    "        loss = out['loss']\n",
    "        reconstructed_first_images = torch2numpy_image(out['reconstructed_images'][:self.N_EVAL_LOGGING_IMAGES])\n",
    "        self.logger.log_images(\n",
    "            \"images/ae/eval/reconstruction\", \n",
    "            collage_images([first_images, reconstructed_first_images])\n",
    "        )\n",
    "        self.logger.log({\"ae/test/loss\": loss.detach().item()})\n",
    "        \n",
    "    def monitor_step(self):\n",
    "        convolutions: dict[str, np.ndarray] = self.convolution_visualizer.extract_convolutions(self.autoencoder)\n",
    "        for name, weights in convolutions.items():\n",
    "            unravelled_images = unravel_images(weights, max_rows=8)\n",
    "            weights_collage = collage_images(unravelled_images)\n",
    "            self.logger.log_images(\n",
    "                \"images/ae/convolutions/\" + name,\n",
    "                weights_collage,\n",
    "            )"
   ]
  },
  {
   "cell_type": "markdown",
   "id": "a4362e47-9ef7-44b7-886c-0e654a4fd21b",
   "metadata": {},
   "source": [
    "## Train AE"
   ]
  },
  {
   "cell_type": "code",
   "execution_count": 6,
   "id": "3ffaba6e",
   "metadata": {},
   "outputs": [],
   "source": [
    "class AutoencoderTrainer(Trainer):\n",
    "    def __init__(\n",
    "        self,\n",
    "        autoencoder: AutoencoderBase,\n",
    "        logger: Optional[WandbLogger] = None,\n",
    "        device: torch.device = torch.device(\"cpu\"),\n",
    "    ):\n",
    "        super().__init__(autoencoder, logger, device)\n",
    "        self.compute_loss = torch.nn.MSELoss()\n",
    "\n",
    "    def train_step(self):\n",
    "        self.autoencoder.train()\n",
    "        batch = generate_batch(BATCHSIZE).to(self.device)\n",
    "        first_image = torch2numpy_image(batch[0])\n",
    "        out = self.autoencoder(batch)\n",
    "        loss = out['loss']\n",
    "        reconstructed_first_image = torch2numpy_image(out['reconstructed_images'][0])\n",
    "        self.optimizer.zero_grad()\n",
    "        loss.backward()\n",
    "        self.optimizer.step()\n",
    "\n",
    "        self.logger.log_images(\n",
    "            \"images/ae/train/first_image_in_batch\", \n",
    "            collage_images([first_image, reconstructed_first_image])\n",
    "        )\n",
    "        self.logger.log({\"ae/train/loss\": loss.detach().item()})\n",
    "    "
   ]
  },
  {
   "cell_type": "code",
   "execution_count": 7,
   "id": "dad25d2b-38be-412c-bd1b-83ab65fac187",
   "metadata": {},
   "outputs": [],
   "source": [
    "from acai.autoencoders import AutoencoderDefault\n",
    "# fix_seeds(42)\n",
    "\n",
    "# logger = WandbLogger(run='aekn8bbs', project='acai_karpathy', log_images_every=100)\n",
    "# encoder = build_simple_encoder(width_coef=1)\n",
    "# decoder = build_simple_decoder(width_coef=1)\n",
    "# autoencoder = AutoencoderDefault(encoder, decoder)\n",
    "# autoencoder.apply(init_weights)\n",
    "\n",
    "# trainer = Trainer(autoencoder, logger=logger, device=torch.device(\"cuda\"))\n",
    "# trainer.train(n_steps=260000)"
   ]
  },
  {
   "cell_type": "markdown",
   "id": "855394b5-a7ff-4ba6-a02a-5276f4e4813b",
   "metadata": {
    "tags": []
   },
   "source": [
    "# Train ACAI"
   ]
  },
  {
   "cell_type": "code",
   "execution_count": 8,
   "id": "b66af7bc-2851-4f85-859d-c8bd455a91ff",
   "metadata": {},
   "outputs": [
    {
     "ename": "SyntaxError",
     "evalue": "expected ':' (3011220344.py, line 35)",
     "output_type": "error",
     "traceback": [
      "\u001b[0;36m  Cell \u001b[0;32mIn[8], line 35\u001b[0;36m\u001b[0m\n\u001b[0;31m    def _mix_latents(self, latent, latent4interpolation) -> tuple[torch.Tensor, torch.Tensor]\u001b[0m\n\u001b[0m                                                                                             ^\u001b[0m\n\u001b[0;31mSyntaxError\u001b[0m\u001b[0;31m:\u001b[0m expected ':'\n"
     ]
    }
   ],
   "source": [
    "from acai.autoencoders import AutoencoderBase\n",
    "from typing import Any\n",
    "\n",
    "class ACAI(AutoencoderBase):\n",
    "    GAMMA = 0.2\n",
    "    LAMBDA = 0.5 / 4\n",
    "    \n",
    "    def __init__(self, encoder, decoder, critic):\n",
    "        super().__init__()\n",
    "        self.encoder = encoder\n",
    "        self.decoder = decoder\n",
    "        self.critic = critic\n",
    "        self.compute_loss = torch.nn.MSELoss()\n",
    "        \n",
    "    def forward(self, images: torch.Tensor, images4interpolation: torch.Tensor) -> dict[str, Any]:\n",
    "        latent = self.encoder(images)\n",
    "        latent4interpolation = self.encoder(images4interpolation)\n",
    "        interpolated_latent, alphas = self._mix_latents(latent, latent4interpolation)\n",
    "        reconstructed_images = self.decoder(latent)\n",
    "        interpolated_images = self.decoder(interpolated_latent)\n",
    "        predicted_alphas = torch.mean(self.critic(interpolated_images), [1, 2, 3])\n",
    "        \n",
    "        reconstruction_loss = self.compute_loss(reconstructed_images, images)\n",
    "        interpolation_loss = self.LAMBDA * (predicted_alphas ** 2).mean(axis=0)\n",
    "        loss = reconstruction_loss + interpolation_loss\n",
    "        return {\n",
    "            \"loss\": loss,\n",
    "            \"reconstruction_loss\": reconstruction_loss,\n",
    "            \"interpolation_loss\": interpolation_loss,\n",
    "            \"reconstructed_images\": reconstructed_images,\n",
    "            \"reconstructed_interpolated_images\": interpolated_images,\n",
    "            \"reconstructed_interpolated_alphas\": predicted_alphas,\n",
    "        }\n",
    "    \n",
    "    def _mix_latents(self, latent, latent4interpolation) -> tuple[torch.Tensor, torch.Tensor]\n",
    "        \"\"\"\n",
    "        :param latent: torch.Tensor of shape [BATCH_SIZE, CHANNELS, HEIGHT, WIDTH]\n",
    "        :return: tuple of two tensors. \n",
    "            1. Mixed latents, torch.Tensor of shape [BATCH_SIZE, CHANNELS, HEGIHT, WIDTH]\n",
    "            2. Alphas, torch.Tensor of shape [BATCH_SIZE, 1, 1, 1]\n",
    "        \"\"\"\n",
    "        batch_size = latent.shape[0]\n",
    "        alphas = 0.5 * torch.rand(batch_size).reshape(-1, 1, 1, 1).to(latent.device)\n",
    "        interpolated_latent = (1 - alphas) * latent + alphas * latent4interpolation\n",
    "        return interpolated_latent, alphas\n",
    "    \n",
    "    def forward_critic(self, images: torch.Tensor, images4interpolation: torch.Tensor) -> dict[str, Any]:\n",
    "        with torch.no_grad():\n",
    "            latent = self.encoder(images)\n",
    "            latent4interpolation = self.encoder(images4interpolation)\n",
    "            interpolated_latent, alphas = self._mix_latents(latent, latent4interpolation)\n",
    "            reconstructed_images = self.decoder(latent)\n",
    "            interpolated_images = self.decoder(interpolated_latent)\n",
    "            regularization_images = self.GAMMA * images + (1 - self.GAMMA) * reconstructed_images\n",
    "        predicted_alphas = torch.mean(self.critic(interpolated_images), [1, 2, 3])\n",
    "        predicted_alphas_regularization = self.critic(regularization_images).mean(3).mean(2).mean(1)\n",
    "\n",
    "        alpha_recovery_loss = torch.nn.functional.mse_loss(predicted_alphas, alphas.squeeze())\n",
    "        regularization_loss = (predicted_alphas_regularization ** 2).mean(0)\n",
    "        loss = alpha_recovery_loss + regularization_loss\n",
    "        return {\n",
    "            \"loss\": loss,\n",
    "            \"alpha_recovery_loss\": alpha_recovery_loss,\n",
    "            \"regularization_loss\": regularization_loss,\n",
    "            \"reconstructed_interpolated_images\": interpolated_images,\n",
    "            \"reconstructed_images\": reconstructed_images,\n",
    "            \"blended_non_interpolated_images\": regularization_images,\n",
    "        }"
   ]
  },
  {
   "cell_type": "code",
   "execution_count": null,
   "id": "f0822dc7-8dd6-4171-bbdd-610f6e539d20",
   "metadata": {},
   "outputs": [],
   "source": [
    "class ACAITrainer(Trainer):\n",
    "    autoencoder: ACAI\n",
    "    TRAIN_CRITIC_AFTER = 0\n",
    "    \n",
    "    def __init__(\n",
    "        self,\n",
    "        autoencoder: ACAI,\n",
    "        logger: Optional[WandbLogger] = None,\n",
    "        device: torch.device = torch.device(\"cpu\"),\n",
    "    ):\n",
    "        super().__init__(autoencoder, logger, device)\n",
    "        self.optimizer_ae = torch.optim.Adam([*autoencoder.encoder.parameters(), *autoencoder.decoder.parameters()], lr=3e-4)\n",
    "        self.optimizer_critic = torch.optim.Adam(autoencoder.critic.parameters(), lr=3e-4)\n",
    "        self._step_counter = 0\n",
    "    \n",
    "    def train_step(self):\n",
    "        self.autoencoder.train()\n",
    "        self._train_ae()\n",
    "        if self.TRAIN_CRITIC_AFTER < self._step_counter:\n",
    "            self._train_critic()\n",
    "        self._step_counter += 1\n",
    "    \n",
    "    def _train_ae(self):\n",
    "        batch1 = generate_batch(BATCHSIZE).to(self.device)\n",
    "        batch2 = generate_batch(BATCHSIZE).to(self.device)\n",
    "        first_image = torch2numpy_image(batch1[0])\n",
    "        out = self.autoencoder(batch1, batch2)\n",
    "        loss = out['loss']\n",
    "        self.optimizer_ae.zero_grad()\n",
    "        loss.backward()\n",
    "        self.optimizer_ae.step()\n",
    "\n",
    "        self.logger.log({\"ae/train/loss\": loss.detach().item()})\n",
    "        self.logger.log({\"ae/train/reconstruction_loss\": out['reconstruction_loss'].detach().item()})\n",
    "        self.logger.log({\"ae/train/interpolation_loss\": out['interpolation_loss'].detach().item()})\n",
    "        self.logger.log_images(\n",
    "            \"images/ae/train/first_image_in_batch\", \n",
    "            collage_images([first_image, torch2numpy_image(out['reconstructed_images'][0])])\n",
    "        )\n",
    "        self.logger.log_images(\n",
    "            \"images/ae/train/decoded_interpolation\",\n",
    "            torch2numpy_image(out[\"reconstructed_interpolated_images\"][0]),\n",
    "        )\n",
    "        \n",
    "    def _train_critic(self):\n",
    "        batch1 = generate_batch(BATCHSIZE).to(self.device)\n",
    "        batch2 = generate_batch(BATCHSIZE).to(self.device)\n",
    "        first_image = torch2numpy_image(batch1[0])\n",
    "        out = self.autoencoder.forward_critic(batch1, batch2)\n",
    "        loss = out['loss']\n",
    "        self.optimizer_critic.zero_grad()\n",
    "        loss.backward()\n",
    "        self.optimizer_critic.step()\n",
    "\n",
    "        self.logger.log({\"critic/train/loss\": loss.detach().item()})\n",
    "        self.logger.log({\"critic/train/alpha_recovery_loss\": out['alpha_recovery_loss'].detach().item()})\n",
    "        self.logger.log({\"critic/train/regularization_loss\": out['regularization_loss'].detach().item()})\n",
    "        self.logger.log_images(\n",
    "            \"images/critic/train/first_image_in_batch\", \n",
    "            collage_images([first_image, torch2numpy_image(out['reconstructed_images'][0])])\n",
    "        )\n",
    "        self.logger.log_images(\n",
    "            \"images/critic/train/decoded_interpolation\",\n",
    "            torch2numpy_image(out[\"reconstructed_interpolated_images\"][0]),\n",
    "        )\n",
    "        self.logger.log_images(\n",
    "            \"images/critic/train/blended_image\",\n",
    "            torch2numpy_image(out[\"blended_non_interpolated_images\"][0]),\n",
    "        )"
   ]
  },
  {
   "cell_type": "code",
   "execution_count": null,
   "id": "f630b888-9a1f-44f4-8ed5-83fc1ef030e7",
   "metadata": {},
   "outputs": [],
   "source": [
    "fix_seeds(42)\n",
    "\n",
    "logger = WandbLogger(run='acai__lambda_divided_4', project='acai_karpathy', log_images_every=100)\n",
    "encoder = build_simple_encoder(width_coef=1)\n",
    "decoder = build_simple_decoder(width_coef=1)\n",
    "critic = build_simple_encoder(width_coef=1)\n",
    "autoencoder = ACAI(encoder, decoder, critic)\n",
    "autoencoder.apply(init_weights_kaiming_normal)\n",
    "\n",
    "trainer = ACAITrainer(autoencoder, logger=logger, device=torch.device(\"cuda\"))\n",
    "trainer.train(n_steps=2600000)"
   ]
  },
  {
   "cell_type": "code",
   "execution_count": null,
   "id": "be674f2f",
   "metadata": {},
   "outputs": [],
   "source": [
    "def interpolate_encoder(encoder, decoder, idx=0):\n",
    "    N_STEPS = 9\n",
    "    images = generate_batch(2)\n",
    "\n",
    "    encoder.eval()\n",
    "    decoder.eval()\n",
    "    image1_latent, image2_latent = (encoder(image.unsqueeze(0)) for image in images)\n",
    "    interpolated_latents = [alpha*image1_latent + (1-alpha)*image2_latent for alpha in np.linspace(0.0, 1.0, N_STEPS)]\n",
    "    interpolated_images = [decoder(latent).squeeze() for latent in interpolated_latents]\n",
    "\n",
    "    fig, ax = plt.subplots(1, N_STEPS, figsize=(15, 5))\n",
    "    for i in range(N_STEPS):\n",
    "        ax[i].imshow(interpolated_images[i].detach().numpy(), cmap='gray')"
   ]
  },
  {
   "cell_type": "code",
   "execution_count": null,
   "id": "784d3ca2",
   "metadata": {},
   "outputs": [],
   "source": [
    "interpolate_encoder(autoencoder.encoder.cpu(), autoencoder.decoder.cpu())"
   ]
  }
 ],
 "metadata": {
  "kernelspec": {
   "display_name": "cafa-protein",
   "language": "python",
   "name": "cafa-protein"
  },
  "language_info": {
   "codemirror_mode": {
    "name": "ipython",
    "version": 3
   },
   "file_extension": ".py",
   "mimetype": "text/x-python",
   "name": "python",
   "nbconvert_exporter": "python",
   "pygments_lexer": "ipython3",
   "version": "3.10.12"
  }
 },
 "nbformat": 4,
 "nbformat_minor": 5
}
