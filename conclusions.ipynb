{
 "cells": [
  {
   "cell_type": "markdown",
   "id": "eea7e5a6-2586-48b6-b829-9f6adcbce87f",
   "metadata": {},
   "source": [
    "### Weight initialization significantly affects learning curve, removes plateau in the beginning\n",
    "![](figs/initialization.png)"
   ]
  },
  {
   "cell_type": "markdown",
   "id": "3a1af283-6aeb-443e-b9a1-d574292d9b39",
   "metadata": {
    "jp-MarkdownHeadingCollapsed": true,
    "tags": []
   },
   "source": [
    "### Batchnorm helps significantly even in AE with 5 convolutions total\n",
    "![](figs/batchnorm_on_small.png)"
   ]
  },
  {
   "cell_type": "markdown",
   "id": "71ec00ba-6de8-4300-b92b-6b625d4d195a",
   "metadata": {},
   "source": [
    "### Sigmoid in the end affects the result strongly\n",
    "![](figs/sigmoid.png)"
   ]
  },
  {
   "cell_type": "markdown",
   "id": "dfb29267-db54-4ae4-b8b5-43b24d52817b",
   "metadata": {},
   "source": [
    "### Two convolutions after last upsampling give better results\n",
    "![](figs/2convs.png)"
   ]
  }
 ],
 "metadata": {
  "kernelspec": {
   "display_name": "cafa-protein",
   "language": "python",
   "name": "cafa-protein"
  },
  "language_info": {
   "codemirror_mode": {
    "name": "ipython",
    "version": 3
   },
   "file_extension": ".py",
   "mimetype": "text/x-python",
   "name": "python",
   "nbconvert_exporter": "python",
   "pygments_lexer": "ipython3",
   "version": "3.10.12"
  }
 },
 "nbformat": 4,
 "nbformat_minor": 5
}
